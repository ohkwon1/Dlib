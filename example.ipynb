{
 "cells": [
  {
   "cell_type": "code",
   "execution_count": null,
   "id": "15696b76",
   "metadata": {},
   "outputs": [],
   "source": [
    "from PIL import Image\n",
    "import face_recognition\n",
    "\n",
    "image = face_recognition.load_image_file(\"test.jpg\")                                 # Image Load\n",
    "\n",
    "\n",
    "face_locations = face_recognition.face_locations(image)                            # 이미지에서 얼굴 검출하기\n",
    "\n",
    "print(\"I found {} face(s) in this image.\".format(len(face_locations)))               # 검출된 얼굴의 개수를 출력\n",
    "\n",
    "for face_location in face_locations:                                                        # 검출된 얼굴의 개수만큼 반복문 실행\n",
    "\n",
    "\ttop, right, bottom, left = face_location                                    # 검출된 얼굴 좌표 저장\n",
    "\tprint(\"A face is located at pixel location Top: {}, Left: {}, Bottom: {}, Right: {}\".format(top, left, bottom, right))\n",
    "                                                                                                     # 검출된 얼굴 좌표 출력\n",
    "\tface_image = image[top:bottom, left:right]                               # 불러온 이미지에서 검출된 얼굴 자르기\n",
    "\tpil_image = Image.fromarray(face_image)                                 # 이미지 객체로 변환\n",
    "\tpil_image.show()                                                                 # 검출된 얼굴 이미지 출력"
   ]
  },
  {
   "cell_type": "code",
   "execution_count": null,
   "id": "d2864b0a",
   "metadata": {},
   "outputs": [],
   "source": [
    "from PIL import Image, ImageDraw\n",
    "import face_recognition\n",
    "\n",
    "image = face_recognition.load_image_file(\"test.jpg\")                                    # Load Image\n",
    "\n",
    "face_landmarks_list = face_recognition.face_landmarks(image)                       # 이미지에서 얼굴을 검출하고 각 얼굴의 눈, 코, 입 등의 윤곽과 위치를 검출\n",
    "\n",
    "print(\"I found {} face(s) in this image.\".format(len(face_landmarks_list)))            # 검출된 얼굴의 개수 출력\n",
    "\n",
    "pil_image = Image.fromarray(image)                                                        # 이미지 객체로 변환\n",
    "d = ImageDraw.Draw(pil_image)                                                              # 이미지 그리기 환경 생성\n",
    "\n",
    "for face_landmarks in face_landmarks_list:                                                  # 검출된 얼굴에서 각 특징점들에 대한 반복문 수행\n",
    "\n",
    "\tfor facial_feature in face_landmarks.keys():                                 # 얼굴의 특징점들에 대한 반복문 수행, 좌표 정보를 출력\n",
    "\t\tprint(\"The {} in this face has the following points: {}\".format(facial_feature, face_landmarks[facial_feature]))\n",
    "\n",
    "\tfor facial_feature in face_landmarks.keys():\n",
    "\t\td.line(face_landmarks[facial_feature], width=2)           # 특징점들을 선으로 이어 시각화\n",
    "\n",
    "pil_image.show()                                                                                   # 최종 결과 출력"
   ]
  }
 ],
 "metadata": {
  "kernelspec": {
   "display_name": "Python 3",
   "language": "python",
   "name": "python3"
  },
  "language_info": {
   "codemirror_mode": {
    "name": "ipython",
    "version": 3
   },
   "file_extension": ".py",
   "mimetype": "text/x-python",
   "name": "python",
   "nbconvert_exporter": "python",
   "pygments_lexer": "ipython3",
   "version": "3.6.9"
  }
 },
 "nbformat": 4,
 "nbformat_minor": 5
}
